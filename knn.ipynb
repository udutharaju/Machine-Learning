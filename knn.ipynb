{
 "cells": [
  {
   "cell_type": "code",
   "execution_count": 80,
   "id": "d2087ad8-ddda-49a7-80f6-47e3c38126e9",
   "metadata": {},
   "outputs": [],
   "source": [
    "import pandas as pd\n",
    "import numpy as np\n",
    "from sklearn.model_selection import train_test_split\n",
    "from sklearn.preprocessing import LabelEncoder\n",
    "import seaborn as sns\n",
    "import matplotlib.pyplot as plt\n",
    "from sklearn.neighbors import KNeighborsClassifier\n",
    "#from sklearn.tree import DecisionTreeClassifier\n",
    "from sklearn.metrics import confusion_matrix,f1_score,ConfusionMatrixDisplay,classification_report\n"
   ]
  },
  {
   "cell_type": "code",
   "execution_count": 3,
   "id": "93e1ee85-4610-44e1-be9d-714bcf372f4a",
   "metadata": {},
   "outputs": [],
   "source": [
    "df = pd.read_csv(\"week7_train.csv\")"
   ]
  },
  {
   "cell_type": "code",
   "execution_count": 4,
   "id": "d7f771fc-1fbb-40df-88ab-ea4f8e65bb59",
   "metadata": {},
   "outputs": [
    {
     "data": {
      "text/html": [
       "<div>\n",
       "<style scoped>\n",
       "    .dataframe tbody tr th:only-of-type {\n",
       "        vertical-align: middle;\n",
       "    }\n",
       "\n",
       "    .dataframe tbody tr th {\n",
       "        vertical-align: top;\n",
       "    }\n",
       "\n",
       "    .dataframe thead th {\n",
       "        text-align: right;\n",
       "    }\n",
       "</style>\n",
       "<table border=\"1\" class=\"dataframe\">\n",
       "  <thead>\n",
       "    <tr style=\"text-align: right;\">\n",
       "      <th></th>\n",
       "      <th>label</th>\n",
       "      <th>pixel0</th>\n",
       "      <th>pixel1</th>\n",
       "      <th>pixel2</th>\n",
       "      <th>pixel3</th>\n",
       "      <th>pixel4</th>\n",
       "      <th>pixel5</th>\n",
       "      <th>pixel6</th>\n",
       "      <th>pixel7</th>\n",
       "      <th>pixel8</th>\n",
       "      <th>...</th>\n",
       "      <th>pixel774</th>\n",
       "      <th>pixel775</th>\n",
       "      <th>pixel776</th>\n",
       "      <th>pixel777</th>\n",
       "      <th>pixel778</th>\n",
       "      <th>pixel779</th>\n",
       "      <th>pixel780</th>\n",
       "      <th>pixel781</th>\n",
       "      <th>pixel782</th>\n",
       "      <th>pixel783</th>\n",
       "    </tr>\n",
       "  </thead>\n",
       "  <tbody>\n",
       "    <tr>\n",
       "      <th>0</th>\n",
       "      <td>1</td>\n",
       "      <td>0</td>\n",
       "      <td>0</td>\n",
       "      <td>0</td>\n",
       "      <td>0</td>\n",
       "      <td>0</td>\n",
       "      <td>0</td>\n",
       "      <td>0</td>\n",
       "      <td>0</td>\n",
       "      <td>0</td>\n",
       "      <td>...</td>\n",
       "      <td>0</td>\n",
       "      <td>0</td>\n",
       "      <td>0</td>\n",
       "      <td>0</td>\n",
       "      <td>0</td>\n",
       "      <td>0</td>\n",
       "      <td>0</td>\n",
       "      <td>0</td>\n",
       "      <td>0</td>\n",
       "      <td>0</td>\n",
       "    </tr>\n",
       "    <tr>\n",
       "      <th>1</th>\n",
       "      <td>0</td>\n",
       "      <td>0</td>\n",
       "      <td>0</td>\n",
       "      <td>0</td>\n",
       "      <td>0</td>\n",
       "      <td>0</td>\n",
       "      <td>0</td>\n",
       "      <td>0</td>\n",
       "      <td>0</td>\n",
       "      <td>0</td>\n",
       "      <td>...</td>\n",
       "      <td>0</td>\n",
       "      <td>0</td>\n",
       "      <td>0</td>\n",
       "      <td>0</td>\n",
       "      <td>0</td>\n",
       "      <td>0</td>\n",
       "      <td>0</td>\n",
       "      <td>0</td>\n",
       "      <td>0</td>\n",
       "      <td>0</td>\n",
       "    </tr>\n",
       "    <tr>\n",
       "      <th>2</th>\n",
       "      <td>1</td>\n",
       "      <td>0</td>\n",
       "      <td>0</td>\n",
       "      <td>0</td>\n",
       "      <td>0</td>\n",
       "      <td>0</td>\n",
       "      <td>0</td>\n",
       "      <td>0</td>\n",
       "      <td>0</td>\n",
       "      <td>0</td>\n",
       "      <td>...</td>\n",
       "      <td>0</td>\n",
       "      <td>0</td>\n",
       "      <td>0</td>\n",
       "      <td>0</td>\n",
       "      <td>0</td>\n",
       "      <td>0</td>\n",
       "      <td>0</td>\n",
       "      <td>0</td>\n",
       "      <td>0</td>\n",
       "      <td>0</td>\n",
       "    </tr>\n",
       "    <tr>\n",
       "      <th>3</th>\n",
       "      <td>4</td>\n",
       "      <td>0</td>\n",
       "      <td>0</td>\n",
       "      <td>0</td>\n",
       "      <td>0</td>\n",
       "      <td>0</td>\n",
       "      <td>0</td>\n",
       "      <td>0</td>\n",
       "      <td>0</td>\n",
       "      <td>0</td>\n",
       "      <td>...</td>\n",
       "      <td>0</td>\n",
       "      <td>0</td>\n",
       "      <td>0</td>\n",
       "      <td>0</td>\n",
       "      <td>0</td>\n",
       "      <td>0</td>\n",
       "      <td>0</td>\n",
       "      <td>0</td>\n",
       "      <td>0</td>\n",
       "      <td>0</td>\n",
       "    </tr>\n",
       "    <tr>\n",
       "      <th>4</th>\n",
       "      <td>0</td>\n",
       "      <td>0</td>\n",
       "      <td>0</td>\n",
       "      <td>0</td>\n",
       "      <td>0</td>\n",
       "      <td>0</td>\n",
       "      <td>0</td>\n",
       "      <td>0</td>\n",
       "      <td>0</td>\n",
       "      <td>0</td>\n",
       "      <td>...</td>\n",
       "      <td>0</td>\n",
       "      <td>0</td>\n",
       "      <td>0</td>\n",
       "      <td>0</td>\n",
       "      <td>0</td>\n",
       "      <td>0</td>\n",
       "      <td>0</td>\n",
       "      <td>0</td>\n",
       "      <td>0</td>\n",
       "      <td>0</td>\n",
       "    </tr>\n",
       "    <tr>\n",
       "      <th>...</th>\n",
       "      <td>...</td>\n",
       "      <td>...</td>\n",
       "      <td>...</td>\n",
       "      <td>...</td>\n",
       "      <td>...</td>\n",
       "      <td>...</td>\n",
       "      <td>...</td>\n",
       "      <td>...</td>\n",
       "      <td>...</td>\n",
       "      <td>...</td>\n",
       "      <td>...</td>\n",
       "      <td>...</td>\n",
       "      <td>...</td>\n",
       "      <td>...</td>\n",
       "      <td>...</td>\n",
       "      <td>...</td>\n",
       "      <td>...</td>\n",
       "      <td>...</td>\n",
       "      <td>...</td>\n",
       "      <td>...</td>\n",
       "      <td>...</td>\n",
       "    </tr>\n",
       "    <tr>\n",
       "      <th>41995</th>\n",
       "      <td>0</td>\n",
       "      <td>0</td>\n",
       "      <td>0</td>\n",
       "      <td>0</td>\n",
       "      <td>0</td>\n",
       "      <td>0</td>\n",
       "      <td>0</td>\n",
       "      <td>0</td>\n",
       "      <td>0</td>\n",
       "      <td>0</td>\n",
       "      <td>...</td>\n",
       "      <td>0</td>\n",
       "      <td>0</td>\n",
       "      <td>0</td>\n",
       "      <td>0</td>\n",
       "      <td>0</td>\n",
       "      <td>0</td>\n",
       "      <td>0</td>\n",
       "      <td>0</td>\n",
       "      <td>0</td>\n",
       "      <td>0</td>\n",
       "    </tr>\n",
       "    <tr>\n",
       "      <th>41996</th>\n",
       "      <td>1</td>\n",
       "      <td>0</td>\n",
       "      <td>0</td>\n",
       "      <td>0</td>\n",
       "      <td>0</td>\n",
       "      <td>0</td>\n",
       "      <td>0</td>\n",
       "      <td>0</td>\n",
       "      <td>0</td>\n",
       "      <td>0</td>\n",
       "      <td>...</td>\n",
       "      <td>0</td>\n",
       "      <td>0</td>\n",
       "      <td>0</td>\n",
       "      <td>0</td>\n",
       "      <td>0</td>\n",
       "      <td>0</td>\n",
       "      <td>0</td>\n",
       "      <td>0</td>\n",
       "      <td>0</td>\n",
       "      <td>0</td>\n",
       "    </tr>\n",
       "    <tr>\n",
       "      <th>41997</th>\n",
       "      <td>7</td>\n",
       "      <td>0</td>\n",
       "      <td>0</td>\n",
       "      <td>0</td>\n",
       "      <td>0</td>\n",
       "      <td>0</td>\n",
       "      <td>0</td>\n",
       "      <td>0</td>\n",
       "      <td>0</td>\n",
       "      <td>0</td>\n",
       "      <td>...</td>\n",
       "      <td>0</td>\n",
       "      <td>0</td>\n",
       "      <td>0</td>\n",
       "      <td>0</td>\n",
       "      <td>0</td>\n",
       "      <td>0</td>\n",
       "      <td>0</td>\n",
       "      <td>0</td>\n",
       "      <td>0</td>\n",
       "      <td>0</td>\n",
       "    </tr>\n",
       "    <tr>\n",
       "      <th>41998</th>\n",
       "      <td>6</td>\n",
       "      <td>0</td>\n",
       "      <td>0</td>\n",
       "      <td>0</td>\n",
       "      <td>0</td>\n",
       "      <td>0</td>\n",
       "      <td>0</td>\n",
       "      <td>0</td>\n",
       "      <td>0</td>\n",
       "      <td>0</td>\n",
       "      <td>...</td>\n",
       "      <td>0</td>\n",
       "      <td>0</td>\n",
       "      <td>0</td>\n",
       "      <td>0</td>\n",
       "      <td>0</td>\n",
       "      <td>0</td>\n",
       "      <td>0</td>\n",
       "      <td>0</td>\n",
       "      <td>0</td>\n",
       "      <td>0</td>\n",
       "    </tr>\n",
       "    <tr>\n",
       "      <th>41999</th>\n",
       "      <td>9</td>\n",
       "      <td>0</td>\n",
       "      <td>0</td>\n",
       "      <td>0</td>\n",
       "      <td>0</td>\n",
       "      <td>0</td>\n",
       "      <td>0</td>\n",
       "      <td>0</td>\n",
       "      <td>0</td>\n",
       "      <td>0</td>\n",
       "      <td>...</td>\n",
       "      <td>0</td>\n",
       "      <td>0</td>\n",
       "      <td>0</td>\n",
       "      <td>0</td>\n",
       "      <td>0</td>\n",
       "      <td>0</td>\n",
       "      <td>0</td>\n",
       "      <td>0</td>\n",
       "      <td>0</td>\n",
       "      <td>0</td>\n",
       "    </tr>\n",
       "  </tbody>\n",
       "</table>\n",
       "<p>42000 rows × 785 columns</p>\n",
       "</div>"
      ],
      "text/plain": [
       "       label  pixel0  pixel1  pixel2  pixel3  pixel4  pixel5  pixel6  pixel7  \\\n",
       "0          1       0       0       0       0       0       0       0       0   \n",
       "1          0       0       0       0       0       0       0       0       0   \n",
       "2          1       0       0       0       0       0       0       0       0   \n",
       "3          4       0       0       0       0       0       0       0       0   \n",
       "4          0       0       0       0       0       0       0       0       0   \n",
       "...      ...     ...     ...     ...     ...     ...     ...     ...     ...   \n",
       "41995      0       0       0       0       0       0       0       0       0   \n",
       "41996      1       0       0       0       0       0       0       0       0   \n",
       "41997      7       0       0       0       0       0       0       0       0   \n",
       "41998      6       0       0       0       0       0       0       0       0   \n",
       "41999      9       0       0       0       0       0       0       0       0   \n",
       "\n",
       "       pixel8  ...  pixel774  pixel775  pixel776  pixel777  pixel778  \\\n",
       "0           0  ...         0         0         0         0         0   \n",
       "1           0  ...         0         0         0         0         0   \n",
       "2           0  ...         0         0         0         0         0   \n",
       "3           0  ...         0         0         0         0         0   \n",
       "4           0  ...         0         0         0         0         0   \n",
       "...       ...  ...       ...       ...       ...       ...       ...   \n",
       "41995       0  ...         0         0         0         0         0   \n",
       "41996       0  ...         0         0         0         0         0   \n",
       "41997       0  ...         0         0         0         0         0   \n",
       "41998       0  ...         0         0         0         0         0   \n",
       "41999       0  ...         0         0         0         0         0   \n",
       "\n",
       "       pixel779  pixel780  pixel781  pixel782  pixel783  \n",
       "0             0         0         0         0         0  \n",
       "1             0         0         0         0         0  \n",
       "2             0         0         0         0         0  \n",
       "3             0         0         0         0         0  \n",
       "4             0         0         0         0         0  \n",
       "...         ...       ...       ...       ...       ...  \n",
       "41995         0         0         0         0         0  \n",
       "41996         0         0         0         0         0  \n",
       "41997         0         0         0         0         0  \n",
       "41998         0         0         0         0         0  \n",
       "41999         0         0         0         0         0  \n",
       "\n",
       "[42000 rows x 785 columns]"
      ]
     },
     "execution_count": 4,
     "metadata": {},
     "output_type": "execute_result"
    }
   ],
   "source": [
    "df"
   ]
  },
  {
   "cell_type": "code",
   "execution_count": 5,
   "id": "4bfb9991-7f1c-4ab0-aa91-493f11214e0e",
   "metadata": {},
   "outputs": [
    {
     "data": {
      "text/plain": [
       "(42000, 785)"
      ]
     },
     "execution_count": 5,
     "metadata": {},
     "output_type": "execute_result"
    }
   ],
   "source": [
    "df.shape"
   ]
  },
  {
   "cell_type": "code",
   "execution_count": 6,
   "id": "720f5cc0-7dc4-4f57-a9c6-35f584ca5749",
   "metadata": {},
   "outputs": [
    {
     "data": {
      "text/plain": [
       "label       0\n",
       "pixel0      0\n",
       "pixel1      0\n",
       "pixel2      0\n",
       "pixel3      0\n",
       "           ..\n",
       "pixel779    0\n",
       "pixel780    0\n",
       "pixel781    0\n",
       "pixel782    0\n",
       "pixel783    0\n",
       "Length: 785, dtype: int64"
      ]
     },
     "execution_count": 6,
     "metadata": {},
     "output_type": "execute_result"
    }
   ],
   "source": [
    "df.isnull().sum()"
   ]
  },
  {
   "cell_type": "code",
   "execution_count": 7,
   "id": "36bf897a-b337-4511-9ea4-4f3fc6c28643",
   "metadata": {},
   "outputs": [
    {
     "data": {
      "text/plain": [
       "label    1\n",
       "Name: 0, dtype: int64"
      ]
     },
     "execution_count": 7,
     "metadata": {},
     "output_type": "execute_result"
    }
   ],
   "source": [
    "df.iloc[0,:1]"
   ]
  },
  {
   "cell_type": "code",
   "execution_count": 23,
   "id": "3de54ee6-ae16-4e65-9cd3-e2398f4aceb0",
   "metadata": {},
   "outputs": [],
   "source": [
    "y = df.iloc[0,0]\n",
    "x = df.iloc[0,1:]\n"
   ]
  },
  {
   "cell_type": "code",
   "execution_count": 9,
   "id": "0fd78bca-2bb4-4f76-bc5d-a0e412bd5b19",
   "metadata": {},
   "outputs": [
    {
     "data": {
      "text/plain": [
       "1"
      ]
     },
     "execution_count": 9,
     "metadata": {},
     "output_type": "execute_result"
    }
   ],
   "source": [
    "\n",
    "y"
   ]
  },
  {
   "cell_type": "code",
   "execution_count": 10,
   "id": "aea703d6-9555-4e1b-aa5f-a9aba5d980d6",
   "metadata": {},
   "outputs": [
    {
     "data": {
      "text/plain": [
       "pixel0      0\n",
       "pixel1      0\n",
       "pixel2      0\n",
       "pixel3      0\n",
       "pixel4      0\n",
       "           ..\n",
       "pixel779    0\n",
       "pixel780    0\n",
       "pixel781    0\n",
       "pixel782    0\n",
       "pixel783    0\n",
       "Name: 0, Length: 784, dtype: int64"
      ]
     },
     "execution_count": 10,
     "metadata": {},
     "output_type": "execute_result"
    }
   ],
   "source": [
    "x"
   ]
  },
  {
   "cell_type": "code",
   "execution_count": 24,
   "id": "18ce134b-284f-4fa1-a566-23c9313676c8",
   "metadata": {},
   "outputs": [
    {
     "name": "stdout",
     "output_type": "stream",
     "text": [
      "1\n"
     ]
    },
    {
     "data": {
      "image/png": "[encoded data removed]",
      "text/plain": [
       "<Figure size 640x480 with 1 Axes>"
      ]
     },
     "metadata": {},
     "output_type": "display_data"
    }
   ],
   "source": [
    "plt.imshow(df.iloc[260,1:].values.reshape(28,28))\n",
    "print(df.iloc[0,0])"
   ]
  },
  {
   "cell_type": "code",
   "execution_count": null,
   "id": "47c8ad28-3918-4d6c-9480-a7a3ab5fcc65",
   "metadata": {},
   "outputs": [],
   "source": []
  },
  {
   "cell_type": "code",
   "execution_count": 27,
   "id": "833b0049-45df-45d8-add1-92a449821248",
   "metadata": {},
   "outputs": [
    {
     "data": {
      "text/plain": [
       "0       1\n",
       "1       0\n",
       "2       1\n",
       "3       4\n",
       "4       0\n",
       "       ..\n",
       "3995    6\n",
       "3996    7\n",
       "3997    6\n",
       "3998    6\n",
       "3999    4\n",
       "Name: label, Length: 4000, dtype: int64"
      ]
     },
     "execution_count": 27,
     "metadata": {},
     "output_type": "execute_result"
    }
   ],
   "source": [
    "df.iloc[0:4000,0]"
   ]
  },
  {
   "cell_type": "code",
   "execution_count": 31,
   "id": "a1b94496-d26b-42cf-8524-019e1f666d4b",
   "metadata": {},
   "outputs": [
    {
     "data": {
      "text/plain": [
       "pixel0      0\n",
       "pixel1      0\n",
       "pixel2      0\n",
       "pixel3      0\n",
       "pixel4      0\n",
       "           ..\n",
       "pixel779    0\n",
       "pixel780    0\n",
       "pixel781    0\n",
       "pixel782    0\n",
       "pixel783    0\n",
       "Name: 0, Length: 784, dtype: int64"
      ]
     },
     "execution_count": 31,
     "metadata": {},
     "output_type": "execute_result"
    }
   ],
   "source": [
    "df.iloc[0,1:]"
   ]
  },
  {
   "cell_type": "code",
   "execution_count": 36,
   "id": "d06c8d5b-84a0-4645-b402-630627cdfaa1",
   "metadata": {},
   "outputs": [],
   "source": [
    "x = df.iloc[0:4000,1:]\n",
    "y = df.iloc[0:4000,0]"
   ]
  },
  {
   "cell_type": "code",
   "execution_count": 46,
   "id": "d829f332-8e32-4354-a0ed-50beae8a1ebd",
   "metadata": {},
   "outputs": [],
   "source": [
    "classifier = KNeighborsClassifier()  "
   ]
  },
  {
   "cell_type": "code",
   "execution_count": 53,
   "id": "0581cdf9-2c24-4c4c-b218-a4f5d525a396",
   "metadata": {},
   "outputs": [],
   "source": [
    "mf = df.sample(frac=0.10)\n",
    "y = mf.iloc[:, 0]\n",
    "x = mf.iloc[:, 1:]"
   ]
  },
  {
   "cell_type": "code",
   "execution_count": 55,
   "id": "37bc1cc2-d7fb-4416-8a25-6829d4e9a546",
   "metadata": {},
   "outputs": [],
   "source": [
    "X_train,X_test,y_train,y_test = train_test_split(x,y,test_size=0.2,random_state = 42)"
   ]
  },
  {
   "cell_type": "code",
   "execution_count": 60,
   "id": "e3ae7dff-a1a1-4ba8-86a3-b3ad66ad43e2",
   "metadata": {},
   "outputs": [
    {
     "data": {
      "text/html": [
       "<style>#sk-container-id-1 {color: black;background-color: white;}#sk-container-id-1 pre{padding: 0;}#sk-container-id-1 div.sk-toggleable {background-color: white;}#sk-container-id-1 label.sk-toggleable__label {cursor: pointer;display: block;width: 100%;margin-bottom: 0;padding: 0.3em;box-sizing: border-box;text-align: center;}#sk-container-id-1 label.sk-toggleable__label-arrow:before {content: \"▸\";float: left;margin-right: 0.25em;color: #696969;}#sk-container-id-1 label.sk-toggleable__label-arrow:hover:before {color: black;}#sk-container-id-1 div.sk-estimator:hover label.sk-toggleable__label-arrow:before {color: black;}#sk-container-id-1 div.sk-toggleable__content {max-height: 0;max-width: 0;overflow: hidden;text-align: left;background-color: #f0f8ff;}#sk-container-id-1 div.sk-toggleable__content pre {margin: 0.2em;color: black;border-radius: 0.25em;background-color: #f0f8ff;}#sk-container-id-1 input.sk-toggleable__control:checked~div.sk-toggleable__content {max-height: 200px;max-width: 100%;overflow: auto;}#sk-container-id-1 input.sk-toggleable__control:checked~label.sk-toggleable__label-arrow:before {content: \"▾\";}#sk-container-id-1 div.sk-estimator input.sk-toggleable__control:checked~label.sk-toggleable__label {background-color: #d4ebff;}#sk-container-id-1 div.sk-label input.sk-toggleable__control:checked~label.sk-toggleable__label {background-color: #d4ebff;}#sk-container-id-1 input.sk-hidden--visually {border: 0;clip: rect(1px 1px 1px 1px);clip: rect(1px, 1px, 1px, 1px);height: 1px;margin: -1px;overflow: hidden;padding: 0;position: absolute;width: 1px;}#sk-container-id-1 div.sk-estimator {font-family: monospace;background-color: #f0f8ff;border: 1px dotted black;border-radius: 0.25em;box-sizing: border-box;margin-bottom: 0.5em;}#sk-container-id-1 div.sk-estimator:hover {background-color: #d4ebff;}#sk-container-id-1 div.sk-parallel-item::after {content: \"\";width: 100%;border-bottom: 1px solid gray;flex-grow: 1;}#sk-container-id-1 div.sk-label:hover label.sk-toggleable__label {background-color: #d4ebff;}#sk-container-id-1 div.sk-serial::before {content: \"\";position: absolute;border-left: 1px solid gray;box-sizing: border-box;top: 0;bottom: 0;left: 50%;z-index: 0;}#sk-container-id-1 div.sk-serial {display: flex;flex-direction: column;align-items: center;background-color: white;padding-right: 0.2em;padding-left: 0.2em;position: relative;}#sk-container-id-1 div.sk-item {position: relative;z-index: 1;}#sk-container-id-1 div.sk-parallel {display: flex;align-items: stretch;justify-content: center;background-color: white;position: relative;}#sk-container-id-1 div.sk-item::before, #sk-container-id-1 div.sk-parallel-item::before {content: \"\";position: absolute;border-left: 1px solid gray;box-sizing: border-box;top: 0;bottom: 0;left: 50%;z-index: -1;}#sk-container-id-1 div.sk-parallel-item {display: flex;flex-direction: column;z-index: 1;position: relative;background-color: white;}#sk-container-id-1 div.sk-parallel-item:first-child::after {align-self: flex-end;width: 50%;}#sk-container-id-1 div.sk-parallel-item:last-child::after {align-self: flex-start;width: 50%;}#sk-container-id-1 div.sk-parallel-item:only-child::after {width: 0;}#sk-container-id-1 div.sk-dashed-wrapped {border: 1px dashed gray;margin: 0 0.4em 0.5em 0.4em;box-sizing: border-box;padding-bottom: 0.4em;background-color: white;}#sk-container-id-1 div.sk-label label {font-family: monospace;font-weight: bold;display: inline-block;line-height: 1.2em;}#sk-container-id-1 div.sk-label-container {text-align: center;}#sk-container-id-1 div.sk-container {/* jupyter's `normalize.less` sets `[hidden] { display: none; }` but bootstrap.min.css set `[hidden] { display: none !important; }` so we also need the `!important` here to be able to override the default hidden behavior on the sphinx rendered scikit-learn.org. See: https://github.com/scikit-learn/scikit-learn/issues/21755 */display: inline-block !important;position: relative;}#sk-container-id-1 div.sk-text-repr-fallback {display: none;}</style><div id=\"sk-container-id-1\" class=\"sk-top-container\"><div class=\"sk-text-repr-fallback\"><pre>KNeighborsClassifier(metric=&#x27;euclidean&#x27;)</pre><b>In a Jupyter environment, please rerun this cell to show the HTML representation or trust the notebook. <br />On GitHub, the HTML representation is unable to render, please try loading this page with nbviewer.org.</b></div><div class=\"sk-container\" hidden><div class=\"sk-item\"><div class=\"sk-estimator sk-toggleable\"><input class=\"sk-toggleable__control sk-hidden--visually\" id=\"sk-estimator-id-1\" type=\"checkbox\" checked><label for=\"sk-estimator-id-1\" class=\"sk-toggleable__label sk-toggleable__label-arrow\">KNeighborsClassifier</label><div class=\"sk-toggleable__content\"><pre>KNeighborsClassifier(metric=&#x27;euclidean&#x27;)</pre></div></div></div></div></div>"
      ],
      "text/plain": [
       "KNeighborsClassifier(metric='euclidean')"
      ]
     },
     "execution_count": 60,
     "metadata": {},
     "output_type": "execute_result"
    }
   ],
   "source": [
    "classifier = KNeighborsClassifier(n_neighbors=5,metric = 'euclidean')\n",
    "classifier.fit(X_train,y_train)"
   ]
  },
  {
   "cell_type": "code",
   "execution_count": 62,
   "id": "dda79c42-7aab-497a-ae01-50c0a50b3870",
   "metadata": {},
   "outputs": [
    {
     "data": {
      "text/plain": [
       "array([1, 5, 2, 3, 3, 3, 7, 1, 4, 2, 2, 7, 0, 3, 0, 4, 4, 8, 9, 6, 2, 3,\n",
       "       5, 7, 3, 9, 6, 6, 1, 5, 4, 5, 2, 6, 7, 6, 6, 6, 2, 5, 8, 8, 9, 8,\n",
       "       2, 2, 9, 6, 6, 4, 5, 6, 6, 7, 4, 0, 8, 2, 0, 0, 6, 8, 7, 6, 9, 9,\n",
       "       8, 4, 8, 9, 5, 0, 4, 7, 7, 7, 8, 6, 1, 3, 8, 3, 3, 6, 9, 0, 9, 9,\n",
       "       9, 6, 8, 2, 9, 3, 6, 0, 7, 5, 6, 8, 6, 8, 1, 5, 7, 2, 0, 0, 7, 4,\n",
       "       7, 3, 5, 8, 8, 7, 3, 7, 8, 3, 1, 5, 8, 2, 6, 7, 1, 5, 3, 5, 2, 9,\n",
       "       3, 3, 2, 3, 7, 5, 8, 1, 8, 1, 0, 6, 7, 9, 6, 5, 3, 5, 1, 3, 3, 1,\n",
       "       7, 4, 6, 8, 9, 8, 6, 0, 9, 0, 9, 9, 1, 2, 3, 1, 7, 9, 6, 7, 1, 0,\n",
       "       8, 1, 8, 0, 5, 5, 4, 0, 3, 9, 9, 9, 5, 5, 4, 0, 0, 5, 2, 1, 3, 2,\n",
       "       3, 0, 6, 5, 6, 5, 0, 1, 0, 4, 5, 6, 6, 1, 7, 0, 9, 5, 0, 8, 7, 0,\n",
       "       4, 7, 6, 1, 0, 7, 4, 6, 0, 1, 5, 2, 7, 4, 3, 6, 6, 8, 8, 0, 6, 9,\n",
       "       7, 7, 0, 4, 3, 8, 8, 9, 2, 1, 4, 5, 0, 4, 4, 9, 6, 8, 8, 2, 7, 8,\n",
       "       1, 7, 0, 6, 3, 7, 2, 7, 7, 8, 1, 9, 4, 3, 9, 3, 7, 7, 2, 7, 4, 4,\n",
       "       0, 0, 6, 8, 8, 0, 8, 3, 3, 7, 7, 9, 2, 1, 6, 1, 2, 0, 4, 9, 1, 3,\n",
       "       1, 9, 9, 6, 6, 8, 0, 4, 5, 2, 5, 1, 9, 1, 9, 2, 0, 7, 4, 7, 2, 0,\n",
       "       0, 2, 3, 3, 2, 1, 3, 7, 0, 3, 6, 7, 7, 3, 7, 8, 0, 1, 4, 7, 1, 3,\n",
       "       5, 9, 2, 1, 0, 7, 4, 7, 4, 5, 9, 6, 6, 8, 8, 7, 0, 6, 2, 7, 5, 2,\n",
       "       7, 1, 8, 3, 7, 3, 5, 5, 6, 7, 0, 8, 8, 9, 9, 6, 2, 9, 6, 3, 9, 3,\n",
       "       0, 3, 9, 9, 6, 2, 4, 4, 9, 0, 7, 1, 7, 0, 3, 3, 0, 3, 9, 4, 3, 9,\n",
       "       8, 9, 0, 3, 7, 8, 3, 6, 4, 1, 2, 1, 0, 0, 7, 6, 1, 6, 8, 4, 4, 8,\n",
       "       3, 9, 4, 1, 3, 4, 7, 8, 6, 9, 7, 7, 5, 8, 1, 6, 1, 6, 5, 8, 2, 5,\n",
       "       8, 4, 2, 2, 1, 0, 7, 8, 2, 5, 4, 9, 1, 5, 6, 8, 9, 9, 1, 2, 4, 7,\n",
       "       5, 8, 1, 6, 1, 2, 1, 4, 4, 6, 3, 9, 2, 1, 0, 4, 3, 9, 9, 4, 3, 1,\n",
       "       2, 2, 7, 5, 9, 9, 9, 5, 9, 1, 9, 4, 0, 0, 1, 7, 6, 4, 4, 3, 5, 9,\n",
       "       6, 2, 2, 2, 8, 5, 1, 8, 0, 0, 8, 2, 6, 7, 7, 7, 3, 1, 8, 8, 7, 7,\n",
       "       1, 9, 4, 5, 0, 3, 4, 1, 3, 6, 1, 9, 0, 7, 0, 7, 0, 5, 8, 7, 3, 1,\n",
       "       9, 1, 1, 7, 7, 8, 7, 7, 7, 7, 8, 5, 9, 9, 6, 9, 1, 2, 8, 0, 0, 3,\n",
       "       5, 6, 3, 3, 7, 2, 1, 1, 0, 3, 4, 7, 8, 9, 4, 6, 9, 3, 8, 9, 7, 9,\n",
       "       2, 6, 9, 6, 5, 5, 7, 3, 2, 0, 4, 3, 9, 0, 3, 9, 7, 3, 0, 2, 1, 0,\n",
       "       6, 5, 9, 9, 7, 4, 4, 6, 9, 8, 9, 1, 8, 3, 9, 1, 6, 5, 5, 1, 4, 2,\n",
       "       1, 1, 8, 0, 7, 6, 8, 7, 1, 1, 0, 2, 5, 7, 3, 1, 0, 8, 0, 8, 8, 7,\n",
       "       7, 7, 3, 0, 7, 5, 5, 7, 7, 6, 1, 2, 6, 2, 5, 5, 4, 4, 7, 1, 1, 9,\n",
       "       5, 1, 3, 8, 9, 9, 8, 3, 9, 7, 0, 4, 7, 6, 4, 5, 8, 9, 1, 7, 6, 4,\n",
       "       4, 0, 3, 9, 3, 1, 0, 9, 1, 0, 1, 7, 3, 4, 7, 7, 7, 2, 4, 1, 3, 3,\n",
       "       5, 4, 8, 6, 8, 1, 9, 9, 5, 1, 3, 6, 0, 2, 7, 5, 8, 1, 9, 6, 1, 9,\n",
       "       6, 3, 3, 0, 8, 7, 2, 2, 8, 0, 8, 0, 2, 2, 1, 0, 9, 4, 5, 6, 2, 5,\n",
       "       5, 8, 6, 5, 2, 6, 9, 0, 1, 8, 8, 4, 8, 8, 4, 9, 9, 3, 5, 7, 6, 9,\n",
       "       4, 7, 6, 7, 2, 6, 5, 6, 5, 8, 9, 3, 8, 2, 1, 1, 2, 3, 8, 5, 4, 1,\n",
       "       1, 1, 3, 9])"
      ]
     },
     "execution_count": 62,
     "metadata": {},
     "output_type": "execute_result"
    }
   ],
   "source": [
    "y_pred = classifier.predict(X_test)\n",
    "y_pred"
   ]
  },
  {
   "cell_type": "code",
   "execution_count": null,
   "id": "82eded55-852d-4272-98d3-a47efdddb926",
   "metadata": {},
   "outputs": [],
   "source": []
  },
  {
   "cell_type": "code",
   "execution_count": 68,
   "id": "36c442ac-adbc-4651-b209-a8b13884380b",
   "metadata": {},
   "outputs": [
    {
     "data": {
      "text/plain": [
       "array([[ 81,   0,   0,   0,   0,   0,   3,   0,   0,   1],\n",
       "       [  0,  79,   0,   0,   0,   0,   0,   0,   0,   0],\n",
       "       [  0,   6,  67,   1,   1,   0,   1,   1,   1,   0],\n",
       "       [  0,   0,   0,  79,   0,   3,   0,   0,   3,   0],\n",
       "       [  0,   1,   0,   0,  62,   0,   1,   0,   0,   4],\n",
       "       [  0,   1,   0,   2,   1,  66,   2,   0,   0,   1],\n",
       "       [  0,   0,   0,   0,   0,   0,  77,   0,   0,   0],\n",
       "       [  0,   0,   0,   0,   3,   0,   0, 100,   0,   4],\n",
       "       [  0,   4,   1,   2,   0,   2,   1,   1,  84,   0],\n",
       "       [  1,   0,   0,   1,   2,   0,   0,   3,   0,  86]])"
      ]
     },
     "execution_count": 68,
     "metadata": {},
     "output_type": "execute_result"
    }
   ],
   "source": [
    "cm = confusion_matrix(y_test,y_pred)\n",
    "cm"
   ]
  },
  {
   "cell_type": "code",
   "execution_count": 76,
   "id": "16df6e25-b539-49c7-bc55-925357377ef9",
   "metadata": {},
   "outputs": [
    {
     "data": {
      "text/plain": [
       "<sklearn.metrics._plot.confusion_matrix.ConfusionMatrixDisplay at 0x7d91a72b0ad0>"
      ]
     },
     "execution_count": 76,
     "metadata": {},
     "output_type": "execute_result"
    },
    {
     "data": {
      "image/png": "[encoded data removed]",
      "text/plain": [
       "<Figure size 640x480 with 2 Axes>"
      ]
     },
     "metadata": {},
     "output_type": "display_data"
    }
   ],
   "source": [
    "ConfusionMatrixDisplay.from_predictions(y_test,y_pred)"
   ]
  },
  {
   "cell_type": "code",
   "execution_count": 79,
   "id": "8d3baf1a-1bfd-49d7-88b0-7979b85f6d1d",
   "metadata": {},
   "outputs": [
    {
     "name": "stdout",
     "output_type": "stream",
     "text": [
      "              precision    recall  f1-score   support\n",
      "\n",
      "           0       0.99      0.95      0.97        85\n",
      "           1       0.87      1.00      0.93        79\n",
      "           2       0.99      0.86      0.92        78\n",
      "           3       0.93      0.93      0.93        85\n",
      "           4       0.90      0.91      0.91        68\n",
      "           5       0.93      0.90      0.92        73\n",
      "           6       0.91      1.00      0.95        77\n",
      "           7       0.95      0.93      0.94       107\n",
      "           8       0.95      0.88      0.92        95\n",
      "           9       0.90      0.92      0.91        93\n",
      "\n",
      "    accuracy                           0.93       840\n",
      "   macro avg       0.93      0.93      0.93       840\n",
      "weighted avg       0.93      0.93      0.93       840\n",
      "\n"
     ]
    }
   ],
   "source": [
    "print(classification_report(y_test,y_pred))"
   ]
  },
  {
   "cell_type": "code",
   "execution_count": null,
   "id": "31489134-676b-4881-87fe-3b1769b6df38",
   "metadata": {},
   "outputs": [],
   "source": []
  }
 ],
 "metadata": {
  "kernelspec": {
   "display_name": "Python 3 (ipykernel)",
   "language": "python",
   "name": "python3"
  },
  "language_info": {
   "codemirror_mode": {
    "name": "ipython",
    "version": 3
   },
   "file_extension": ".py",
   "mimetype": "text/x-python",
   "name": "python",
   "nbconvert_exporter": "python",
   "pygments_lexer": "ipython3",
   "version": "3.11.7"
  }
 },
 "nbformat": 4,
 "nbformat_minor": 5
}
