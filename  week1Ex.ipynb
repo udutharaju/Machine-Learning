{
 "cells": [
  {
   "cell_type": "code",
   "execution_count": 2,
   "id": "654d7989-9d02-4b8f-b44e-a233dfc1d8c8",
   "metadata": {},
   "outputs": [],
   "source": [
    "import pandas as pd\n",
    "datafile = pd.read_csv(\"transactions.csv\")"
   ]
  },
  {
   "cell_type": "code",
   "execution_count": 3,
   "id": "e35da608-7136-4eb5-9b51-674b7ebe583b",
   "metadata": {},
   "outputs": [
    {
     "name": "stdout",
     "output_type": "stream",
     "text": [
      "   TransactionID TransactionDate  UserID  ProductID  Quantity\n",
      "0              1      2010-08-21     7.0          2         1\n",
      "1              2      2011-05-26     3.0          4         1\n",
      "2              3      2011-06-16     3.0          3         1\n",
      "3              4      2012-08-26     1.0          2         3\n",
      "4              5      2013-06-06     2.0          4         1\n",
      "5              6      2013-12-23     2.0          5         6\n",
      "6              7      2013-12-30     3.0          4         1\n",
      "7              8      2014-04-24     NaN          2         3\n",
      "8              9      2015-04-24     7.0          4         3\n",
      "9             10      2016-05-08     3.0          4         4\n"
     ]
    }
   ],
   "source": [
    "print(datafile)"
   ]
  },
  {
   "cell_type": "code",
   "execution_count": 4,
   "id": "10178edc-2b8f-4af3-878b-b632a42b0875",
   "metadata": {},
   "outputs": [
    {
     "name": "stdout",
     "output_type": "stream",
     "text": [
      "Series([], dtype: object)\n"
     ]
    }
   ],
   "source": [
    "import pandas as pd \n",
    "data = [10,13,15,17]\n",
    "datafile = pd.Series()\n",
    "print(datafile)"
   ]
  },
  {
   "cell_type": "code",
   "execution_count": 5,
   "id": "e10813c3-4f5c-4481-ad25-a52b76ee96e6",
   "metadata": {},
   "outputs": [
    {
     "name": "stdout",
     "output_type": "stream",
     "text": [
      "0    10\n",
      "1    20\n",
      "2    30\n",
      "3    40\n",
      "dtype: int64\n"
     ]
    }
   ],
   "source": [
    "import pandas as pd\n",
    "data = [10, 20, 30, 40]\n",
    "v = pd.Series(data)\n",
    "print(v)\n"
   ]
  },
  {
   "cell_type": "code",
   "execution_count": 19,
   "id": "89c0a750-3cc5-47e2-aa7c-1afe68053ee7",
   "metadata": {},
   "outputs": [
    {
     "name": "stdout",
     "output_type": "stream",
     "text": [
      "0     raju\n",
      "1     anil\n",
      "2    venky\n",
      "3     rani\n",
      "Name: names, dtype: object\n"
     ]
    }
   ],
   "source": [
    "import pandas as pd\n",
    "datafile = {\"sno\":[1,2,3,4],\"names\":[\"raju\",\"anil\",\"venky\",\"rani\"],\"age\":[21,25,22,29],\"vehicle\":[\"car\",\"bus\",\"bike\",\"cycle\"]}\n",
    "v = pd.DataFrame(datafile)\n",
    "print(v['names'])"
   ]
  },
  {
   "cell_type": "code",
   "execution_count": 9,
   "id": "9d493633-08cf-4b04-98e5-565a4f17b118",
   "metadata": {},
   "outputs": [
    {
     "name": "stdout",
     "output_type": "stream",
     "text": [
      "   TransactionID TransactionDate  UserID  ProductID  Quantity\n",
      "0              1      2010-08-21     7.0          2         1\n",
      "1              2      2011-05-26     3.0          4         1\n",
      "2              3      2011-06-16     3.0          3         1\n",
      "3              4      2012-08-26     1.0          2         3\n",
      "4              5      2013-06-06     2.0          4         1\n",
      "5              6      2013-12-23     2.0          5         6\n",
      "6              7      2013-12-30     3.0          4         1\n",
      "7              8      2014-04-24     NaN          2         3\n",
      "8              9      2015-04-24     7.0          4         3\n",
      "9             10      2016-05-08     3.0          4         4\n"
     ]
    }
   ],
   "source": [
    "import pandas as pd\n",
    "data = pd.read_csv(\"transactions.csv\")\n",
    "print(data)"
   ]
  },
  {
   "cell_type": "code",
   "execution_count": 10,
   "id": "9132054f-cfc1-4844-b488-be8dcd8485e5",
   "metadata": {},
   "outputs": [
    {
     "name": "stdout",
     "output_type": "stream",
     "text": [
      "   TransactionID TransactionDate  UserID  ProductID  Quantity\n",
      "0              1      2010-08-21     7.0          2         1\n",
      "1              2      2011-05-26     3.0          4         1\n",
      "2              3      2011-06-16     3.0          3         1\n",
      "3              4      2012-08-26     1.0          2         3\n",
      "4              5      2013-06-06     2.0          4         1\n"
     ]
    }
   ],
   "source": [
    "import pandas as pd\n",
    "data = pd.read_csv(\"transactions.csv\")\n",
    "print(data.head())"
   ]
  },
  {
   "cell_type": "code",
   "execution_count": 11,
   "id": "2be044b5-bbfd-4d27-b01e-c53136901761",
   "metadata": {},
   "outputs": [
    {
     "name": "stdout",
     "output_type": "stream",
     "text": [
      "   TransactionID TransactionDate  UserID  ProductID  Quantity\n",
      "5              6      2013-12-23     2.0          5         6\n",
      "6              7      2013-12-30     3.0          4         1\n",
      "7              8      2014-04-24     NaN          2         3\n",
      "8              9      2015-04-24     7.0          4         3\n",
      "9             10      2016-05-08     3.0          4         4\n"
     ]
    }
   ],
   "source": [
    "import pandas as pd\n",
    "data = pd.read_csv(\"transactions.csv\")\n",
    "print(data.tail())"
   ]
  },
  {
   "cell_type": "code",
   "execution_count": 12,
   "id": "5e2282ed-df74-43db-8166-f0d304087150",
   "metadata": {},
   "outputs": [
    {
     "name": "stdout",
     "output_type": "stream",
     "text": [
      "<class 'pandas.core.frame.DataFrame'>\n",
      "RangeIndex: 10 entries, 0 to 9\n",
      "Data columns (total 5 columns):\n",
      " #   Column           Non-Null Count  Dtype  \n",
      "---  ------           --------------  -----  \n",
      " 0   TransactionID    10 non-null     int64  \n",
      " 1   TransactionDate  10 non-null     object \n",
      " 2   UserID           9 non-null      float64\n",
      " 3   ProductID        10 non-null     int64  \n",
      " 4   Quantity         10 non-null     int64  \n",
      "dtypes: float64(1), int64(3), object(1)\n",
      "memory usage: 532.0+ bytes\n",
      "None\n"
     ]
    }
   ],
   "source": [
    "import pandas as pd\n",
    "data = pd.read_csv(\"transactions.csv\")\n",
    "print(data.info())"
   ]
  },
  {
   "cell_type": "code",
   "execution_count": 13,
   "id": "754c6f84-e8d0-46df-bf2b-8d3a02c7a18a",
   "metadata": {},
   "outputs": [
    {
     "name": "stdout",
     "output_type": "stream",
     "text": [
      "       TransactionID    UserID  ProductID   Quantity\n",
      "count       10.00000  9.000000  10.000000  10.000000\n",
      "mean         5.50000  3.444444   3.400000   2.400000\n",
      "std          3.02765  2.127858   1.074968   1.712698\n",
      "min          1.00000  1.000000   2.000000   1.000000\n",
      "25%          3.25000  2.000000   2.250000   1.000000\n",
      "50%          5.50000  3.000000   4.000000   2.000000\n",
      "75%          7.75000  3.000000   4.000000   3.000000\n",
      "max         10.00000  7.000000   5.000000   6.000000\n"
     ]
    }
   ],
   "source": [
    "import pandas as pd\n",
    "data = pd.read_csv(\"transactions.csv\")\n",
    "print(data.describe())"
   ]
  },
  {
   "cell_type": "code",
   "execution_count": 20,
   "id": "f4b3435b-625f-433b-8c5d-7c4db0f0d9de",
   "metadata": {},
   "outputs": [
    {
     "name": "stdout",
     "output_type": "stream",
     "text": [
      "0     raju\n",
      "1     anil\n",
      "2    venky\n",
      "3     rani\n",
      "Name: names, dtype: object\n"
     ]
    }
   ],
   "source": [
    "import pandas as pd\n",
    "datafile = {\"sno\":[1,2,3,4],\"names\":[\"raju\",\"anil\",\"venky\",\"rani\"],\"age\":[21,25,22,29],\"vehicle\":[\"car\",\"bus\",\"bike\",\"cycle\"]}\n",
    "v = pd.DataFrame(datafile)\n",
    "print(v['names'])"
   ]
  },
  {
   "cell_type": "code",
   "execution_count": 27,
   "id": "2cc76c58-2729-4d9e-baea-9f80e8928634",
   "metadata": {},
   "outputs": [
    {
     "name": "stdout",
     "output_type": "stream",
     "text": [
      "   names vehicle\n",
      "0   raju     car\n",
      "1   anil     bus\n",
      "2  venky    bike\n",
      "3   rani   cycle\n"
     ]
    }
   ],
   "source": [
    "import pandas as pd\n",
    "datafile = {\"sno\":[1,2,3,4],\"names\":[\"raju\",\"anil\",\"venky\",\"rani\"],\"age\":[21,25,22,29],\"vehicle\":[\"car\",\"bus\",\"bike\",\"cycle\"]}\n",
    "v = pd.DataFrame(datafile)\n",
    "print(v[['names','vehicle']])"
   ]
  },
  {
   "cell_type": "code",
   "execution_count": 29,
   "id": "7c670279-ebac-431c-b18a-014ce3d55c3c",
   "metadata": {},
   "outputs": [
    {
     "name": "stdout",
     "output_type": "stream",
     "text": [
      "   names vehicle  age\n",
      "0   raju     car   21\n",
      "1   anil     bus   25\n",
      "2  venky    bike   22\n",
      "3   rani   cycle   29\n"
     ]
    }
   ],
   "source": [
    "print(v[['names','vehicle','age']])"
   ]
  },
  {
   "cell_type": "code",
   "execution_count": 31,
   "id": "40e97dd2-4a31-4998-9c5d-4f5f372737f1",
   "metadata": {},
   "outputs": [
    {
     "name": "stdout",
     "output_type": "stream",
     "text": [
      "sno           2\n",
      "names      anil\n",
      "age          25\n",
      "vehicle     bus\n",
      "Name: 1, dtype: object\n"
     ]
    }
   ],
   "source": [
    "print(v.iloc[1])"
   ]
  },
  {
   "cell_type": "code",
   "execution_count": 37,
   "id": "221bd1d0-1d3d-427d-917f-f60ed8157278",
   "metadata": {},
   "outputs": [
    {
     "name": "stdout",
     "output_type": "stream",
     "text": [
      "[0    False\n",
      "1     True\n",
      "2    False\n",
      "3     True\n",
      "Name: age, dtype: bool]\n"
     ]
    }
   ],
   "source": [
    "y = [v['age']>24]\n",
    "print(y)"
   ]
  },
  {
   "cell_type": "code",
   "execution_count": 41,
   "id": "70be7bc0-aa61-4d42-b643-bffa8add2298",
   "metadata": {},
   "outputs": [
    {
     "data": {
      "text/html": [
       "<div>\n",
       "<style scoped>\n",
       "    .dataframe tbody tr th:only-of-type {\n",
       "        vertical-align: middle;\n",
       "    }\n",
       "\n",
       "    .dataframe tbody tr th {\n",
       "        vertical-align: top;\n",
       "    }\n",
       "\n",
       "    .dataframe thead th {\n",
       "        text-align: right;\n",
       "    }\n",
       "</style>\n",
       "<table border=\"1\" class=\"dataframe\">\n",
       "  <thead>\n",
       "    <tr style=\"text-align: right;\">\n",
       "      <th></th>\n",
       "      <th>sno</th>\n",
       "      <th>Name</th>\n",
       "      <th>age</th>\n",
       "      <th>vehicle</th>\n",
       "    </tr>\n",
       "  </thead>\n",
       "  <tbody>\n",
       "    <tr>\n",
       "      <th>0</th>\n",
       "      <td>1</td>\n",
       "      <td>raju</td>\n",
       "      <td>21</td>\n",
       "      <td>car</td>\n",
       "    </tr>\n",
       "    <tr>\n",
       "      <th>1</th>\n",
       "      <td>2</td>\n",
       "      <td>anil</td>\n",
       "      <td>25</td>\n",
       "      <td>bus</td>\n",
       "    </tr>\n",
       "    <tr>\n",
       "      <th>2</th>\n",
       "      <td>3</td>\n",
       "      <td>venky</td>\n",
       "      <td>22</td>\n",
       "      <td>bike</td>\n",
       "    </tr>\n",
       "    <tr>\n",
       "      <th>3</th>\n",
       "      <td>4</td>\n",
       "      <td>rani</td>\n",
       "      <td>29</td>\n",
       "      <td>cycle</td>\n",
       "    </tr>\n",
       "  </tbody>\n",
       "</table>\n",
       "</div>"
      ],
      "text/plain": [
       "   sno   Name  age vehicle\n",
       "0    1   raju   21     car\n",
       "1    2   anil   25     bus\n",
       "2    3  venky   22    bike\n",
       "3    4   rani   29   cycle"
      ]
     },
     "execution_count": 41,
     "metadata": {},
     "output_type": "execute_result"
    }
   ],
   "source": [
    "v.rename(columns = {\"names\" : \"Name\"})"
   ]
  },
  {
   "cell_type": "code",
   "execution_count": 44,
   "id": "712bf5dd-8288-4c25-89ba-7b151e3db64d",
   "metadata": {},
   "outputs": [
    {
     "name": "stdout",
     "output_type": "stream",
     "text": [
      "   TransactionID  TransactionDate  UserID  ProductID  Quantity\n",
      "0          False            False   False      False     False\n",
      "1          False            False   False      False     False\n",
      "2          False            False   False      False     False\n",
      "3          False            False   False      False     False\n",
      "4          False            False   False      False     False\n",
      "5          False            False   False      False     False\n",
      "6          False            False   False      False     False\n",
      "7          False            False    True      False     False\n",
      "8          False            False   False      False     False\n",
      "9          False            False   False      False     False\n"
     ]
    }
   ],
   "source": [
    "print(data.isnull())"
   ]
  },
  {
   "cell_type": "code",
   "execution_count": 45,
   "id": "17ccc340-956f-454a-b6d1-2be5cb1b5795",
   "metadata": {},
   "outputs": [
    {
     "name": "stdout",
     "output_type": "stream",
     "text": [
      "TransactionID      0\n",
      "TransactionDate    0\n",
      "UserID             1\n",
      "ProductID          0\n",
      "Quantity           0\n",
      "dtype: int64\n"
     ]
    }
   ],
   "source": [
    "print(data.isnull().sum())"
   ]
  },
  {
   "cell_type": "code",
   "execution_count": 76,
   "id": "9f245d68-b561-40a8-916d-7e0b3d1d204d",
   "metadata": {},
   "outputs": [
    {
     "name": "stdout",
     "output_type": "stream",
     "text": [
      "   sno  names   age vehicle\n",
      "0    1   raju  21.0     car\n",
      "1    2   anil  25.0     bus\n",
      "2    3  venky  22.0    bike\n",
      "3    4   rani   NaN   cycle\n"
     ]
    }
   ],
   "source": [
    "import pandas as pd\n",
    "datafile = {\"sno\":[1,2,3,4],\"names\":[\"raju\",\"anil\",\"venky\",\"rani\"],\"age\":[21,25,22,None],\"vehicle\":[\"car\",\"bus\",\"bike\",\"cycle\"]}\n",
    "v = pd.DataFrame(datafile)\n",
    "print(v)"
   ]
  },
  {
   "cell_type": "code",
   "execution_count": 54,
   "id": "60c368bb-221e-4f3a-81ae-d643a9df0382",
   "metadata": {},
   "outputs": [],
   "source": [
    "v['age'].fillna(v['age'].mean(), inplace=True)"
   ]
  },
  {
   "cell_type": "code",
   "execution_count": 55,
   "id": "88644eaa-b5f2-41d0-b5ef-bb42daa3c9f6",
   "metadata": {},
   "outputs": [
    {
     "name": "stdout",
     "output_type": "stream",
     "text": [
      "   sno  names        age vehicle\n",
      "0    1   raju  21.000000     car\n",
      "1    2   anil  25.000000     bus\n",
      "2    3  venky  22.000000    bike\n",
      "3    4   rani  22.666667   cycle\n"
     ]
    }
   ],
   "source": [
    "print(v)"
   ]
  },
  {
   "cell_type": "code",
   "execution_count": 73,
   "id": "cc3ec492-07b3-44ea-b6a4-f3c657822a27",
   "metadata": {},
   "outputs": [
    {
     "name": "stdout",
     "output_type": "stream",
     "text": [
      "   sno  names   age vehicle\n",
      "0    1   raju  21.0     car\n",
      "1    2   anil  25.0     bus\n",
      "2    3  venky  22.0    bike\n",
      "3    4   rani  25.0   cycle\n"
     ]
    }
   ],
   "source": [
    "v['age'].fillna(v['age'].max(), inplace=True)\n",
    "print(v)"
   ]
  },
  {
   "cell_type": "code",
   "execution_count": 77,
   "id": "fcd274d5-8538-4c8b-bdaa-8ef45d1ac2f7",
   "metadata": {},
   "outputs": [
    {
     "name": "stdout",
     "output_type": "stream",
     "text": [
      "   sno  names   age vehicle\n",
      "0    1   raju  21.0     car\n",
      "1    2   anil  25.0     bus\n",
      "2    3  venky  22.0    bike\n"
     ]
    }
   ],
   "source": [
    "v.dropna(inplace=True)\n",
    "print(v)"
   ]
  },
  {
   "cell_type": "code",
   "execution_count": 86,
   "id": "cf196f20-ac47-4161-8ed6-657d2dff8134",
   "metadata": {},
   "outputs": [
    {
     "name": "stdout",
     "output_type": "stream",
     "text": [
      "   TransactionID TransactionDate  UserID  ProductID  Quantity\n",
      "0              1      2010-08-21     7.0          2         1\n",
      "1              2      2011-05-26     3.0          4         1\n",
      "2              3      2011-06-16     3.0          3         1\n",
      "4              5      2013-06-06     2.0          4         1\n",
      "6              7      2013-12-30     3.0          4         1\n",
      "3              4      2012-08-26     1.0          2         3\n",
      "7              8      2014-04-24     NaN          2         3\n",
      "8              9      2015-04-24     7.0          4         3\n",
      "9             10      2016-05-08     3.0          4         4\n",
      "5              6      2013-12-23     2.0          5         6\n"
     ]
    }
   ],
   "source": [
    "y = data.sort_values(by=[\"Quantity\",\"TransactionDate\"])\n",
    "ascending = [True ,False]\n",
    "print(y)"
   ]
  },
  {
   "cell_type": "code",
   "execution_count": 88,
   "id": "619bd2b2-1056-4e91-be70-5cb6f887300a",
   "metadata": {},
   "outputs": [
    {
     "name": "stdout",
     "output_type": "stream",
     "text": [
      "   sno  names   age vehicle\n",
      "0    1   raju  21.0     car\n",
      "2    3  venky  22.0    bike\n",
      "1    2   anil  25.0     bus\n"
     ]
    }
   ],
   "source": [
    "x = v.sort_values(by=[\"age\"])\n",
    "print(x)"
   ]
  },
  {
   "cell_type": "code",
   "execution_count": 91,
   "id": "522233a9-e668-4b7e-a13b-e61ca39a0080",
   "metadata": {},
   "outputs": [
    {
     "name": "stdout",
     "output_type": "stream",
     "text": [
      "[   sno names   age vehicle\n",
      "1    2  anil  25.0     bus]\n"
     ]
    }
   ],
   "source": [
    "x = [v[v[\"age\"]>22]]\n",
    "print(x)"
   ]
  },
  {
   "cell_type": "code",
   "execution_count": 97,
   "id": "9dc3deea-2806-4b3a-9020-5b6d391af408",
   "metadata": {},
   "outputs": [
    {
     "name": "stdout",
     "output_type": "stream",
     "text": [
      "   sno  names   age vehicle\n",
      "1    2   anil  25.0     bus\n",
      "2    3  venky  22.0    bike\n"
     ]
    }
   ],
   "source": [
    "x = v.iloc[[1,2]]\n",
    "print(x)"
   ]
  },
  {
   "cell_type": "code",
   "execution_count": 104,
   "id": "3fe0a618-a692-4cb8-bf96-6e08de27a697",
   "metadata": {},
   "outputs": [
    {
     "name": "stdout",
     "output_type": "stream",
     "text": [
      "       TransactionID    UserID  ProductID   Quantity\n",
      "count       10.00000  9.000000  10.000000  10.000000\n",
      "mean         5.50000  3.444444   3.400000   2.400000\n",
      "std          3.02765  2.127858   1.074968   1.712698\n",
      "min          1.00000  1.000000   2.000000   1.000000\n",
      "25%          3.25000  2.000000   2.250000   1.000000\n",
      "50%          5.50000  3.000000   4.000000   2.000000\n",
      "75%          7.75000  3.000000   4.000000   3.000000\n",
      "max         10.00000  7.000000   5.000000   6.000000\n"
     ]
    }
   ],
   "source": [
    "#1. Print Summary of transaction data set\n",
    "import pandas as pd \n",
    "df= pd.read_csv(\"transactions.csv\")\n",
    "print(data.describe())"
   ]
  },
  {
   "cell_type": "code",
   "execution_count": 108,
   "id": "c62d3f47-60f8-4885-94b4-ae92acfdc29f",
   "metadata": {},
   "outputs": [
    {
     "name": "stdout",
     "output_type": "stream",
     "text": [
      "5\n"
     ]
    }
   ],
   "source": [
    "#2. Print Numbers of Attributes\n",
    "print(df.shape[1])\n",
    "\n"
   ]
  },
  {
   "cell_type": "code",
   "execution_count": 109,
   "id": "d5b75294-b057-4eda-b1f8-e01246b9de3b",
   "metadata": {},
   "outputs": [
    {
     "name": "stdout",
     "output_type": "stream",
     "text": [
      "10\n"
     ]
    }
   ],
   "source": [
    "#Print Numbers of Records\n",
    "print(df.shape[0])"
   ]
  },
  {
   "cell_type": "code",
   "execution_count": 110,
   "id": "323f33e8-5e28-40bd-ac94-7b8c1686de01",
   "metadata": {},
   "outputs": [
    {
     "name": "stdout",
     "output_type": "stream",
     "text": [
      "RangeIndex(start=0, stop=10, step=1)\n"
     ]
    }
   ],
   "source": [
    "#Get the row names\n",
    "print(df.index)"
   ]
  },
  {
   "cell_type": "code",
   "execution_count": 2,
   "id": "0ee7bb46-4679-4db7-9737-32c4e4896baa",
   "metadata": {},
   "outputs": [
    {
     "name": "stdout",
     "output_type": "stream",
     "text": [
      "<class 'pandas.core.frame.DataFrame'>\n",
      "RangeIndex: 10 entries, 0 to 9\n",
      "Data columns (total 5 columns):\n",
      " #   Column           Non-Null Count  Dtype         \n",
      "---  ------           --------------  -----         \n",
      " 0   TransactionID    10 non-null     int64         \n",
      " 1   TransactionDate  10 non-null     datetime64[ns]\n",
      " 2   UserID           9 non-null      float64       \n",
      " 3   ProductID        10 non-null     int64         \n",
      " 4   Quantity         10 non-null     int64         \n",
      "dtypes: datetime64[ns](1), float64(1), int64(3)\n",
      "memory usage: 532.0 bytes\n",
      "None\n",
      "       TransactionID      TransactionDate    UserID  ProductID   Quantity\n",
      "count       10.00000                   10  9.000000  10.000000  10.000000\n",
      "mean         5.50000  2013-05-08 14:24:00  3.444444   3.400000   2.400000\n",
      "min          1.00000  2010-08-21 00:00:00  1.000000   2.000000   1.000000\n",
      "25%          3.25000  2011-10-03 06:00:00  2.000000   2.250000   1.000000\n",
      "50%          5.50000  2013-09-14 00:00:00  3.000000   4.000000   2.000000\n",
      "75%          7.75000  2014-03-26 06:00:00  3.000000   4.000000   3.000000\n",
      "max         10.00000  2016-05-08 00:00:00  7.000000   5.000000   6.000000\n",
      "std          3.02765                  NaN  2.127858   1.074968   1.712698\n"
     ]
    }
   ],
   "source": [
    "import pandas as pd\n",
    "\n",
    "# Creating the dataset (since you provided the data manually)\n",
    "data = {\n",
    "    \"TransactionID\": [1, 2, 3, 4, 5, 6, 7, 8, 9, 10],\n",
    "    \"TransactionDate\": [\"2010-08-21\", \"2011-05-26\", \"2011-06-16\", \"2012-08-26\", \"2013-06-06\", \n",
    "                        \"2013-12-23\", \"2013-12-30\", \"2014-04-24\", \"2015-04-24\", \"2016-05-08\"],\n",
    "    \"UserID\": [7, 3, 3, 1, 2, 2, 3, None, 7, 3],\n",
    "    \"ProductID\": [2, 4, 3, 2, 4, 5, 4, 2, 4, 4],\n",
    "    \"Quantity\": [1, 1, 1, 3, 1, 6, 1, 3, 3, 4]\n",
    "}\n",
    "\n",
    "df = pd.DataFrame(data)\n",
    "\n",
    "# Convert TransactionDate to datetime\n",
    "df[\"TransactionDate\"] = pd.to_datetime(df[\"TransactionDate\"], errors='coerce')\n",
    "\n",
    "# Print Summary\n",
    "print(df.info())\n",
    "print(df.describe(include=\"all\"))\n",
    "\n"
   ]
  },
  {
   "cell_type": "code",
   "execution_count": 112,
   "id": "46ee4111-0fd0-4821-a890-7fc10d8361a3",
   "metadata": {},
   "outputs": [
    {
     "name": "stdout",
     "output_type": "stream",
     "text": [
      "Number of attributes: 5\n"
     ]
    }
   ],
   "source": [
    "#2. Print Numbers of Attributes\n",
    "num_attributes = df.shape[1]\n",
    "print(\"Number of attributes:\", num_attributes)\n",
    "\n"
   ]
  },
  {
   "cell_type": "code",
   "execution_count": 114,
   "id": "4f441ba8-ad97-48ee-865b-f1c1397749fd",
   "metadata": {},
   "outputs": [
    {
     "name": "stdout",
     "output_type": "stream",
     "text": [
      "Row names: [0, 1, 2, 3, 4, 5, 6, 7, 8, 9]\n"
     ]
    }
   ],
   "source": [
    "#4.Get the row names\n",
    "row_names = df.index\n",
    "print(\"Row names:\", row_names.tolist())\n",
    "\n"
   ]
  },
  {
   "cell_type": "code",
   "execution_count": 113,
   "id": "91b86dfb-05d5-462a-b61d-29219f749257",
   "metadata": {},
   "outputs": [
    {
     "name": "stdout",
     "output_type": "stream",
     "text": [
      "Number of records: 10\n"
     ]
    }
   ],
   "source": [
    "#3.Print Numbers of Records\n",
    "num_records = df.shape[0]\n",
    "print(\"Number of records:\", num_records)\n"
   ]
  },
  {
   "cell_type": "code",
   "execution_count": 119,
   "id": "72751259-7dea-4f7a-80b7-9186e064f20a",
   "metadata": {},
   "outputs": [
    {
     "name": "stdout",
     "output_type": "stream",
     "text": [
      "Index(['TransactionID', 'TransactionDate', 'UserID', 'ProductID', 'Quantity'], dtype='object')\n"
     ]
    }
   ],
   "source": [
    "#5. Get the column names\n",
    "print(df.columns)"
   ]
  },
  {
   "cell_type": "code",
   "execution_count": 120,
   "id": "2e33a6bd-f405-46bb-abf9-4ee4eae4aaa4",
   "metadata": {},
   "outputs": [
    {
     "name": "stdout",
     "output_type": "stream",
     "text": [
      "   TransactionID TransactionDate  UserID  ProductID  Quantity\n",
      "0              1      2010-08-21     7.0          2         1\n",
      "1              2      2011-05-26     3.0          4         1\n",
      "2              3      2011-06-16     3.0          3         1\n",
      "3              4      2012-08-26     1.0          2         3\n",
      "4              5      2013-06-06     2.0          4         1\n",
      "5              6      2013-12-23     2.0          5         6\n",
      "6              7      2013-12-30     3.0          4         1\n",
      "7              8      2014-04-24     NaN          2         3\n",
      "8              9      2015-04-24     7.0          4         3\n",
      "9             10      2016-05-08     3.0          4         4\n"
     ]
    }
   ],
   "source": [
    "#View top 10 Records\n",
    "print(df.head(10))"
   ]
  },
  {
   "cell_type": "code",
   "execution_count": 124,
   "id": "00d510d8-c2f3-48c4-b260-89d9b57c06bc",
   "metadata": {},
   "outputs": [
    {
     "name": "stdout",
     "output_type": "stream",
     "text": [
      "   TransactionID TransactionDate  UserID  ProductID  Quant\n",
      "0              1      2010-08-21     7.0          2      1\n",
      "1              2      2011-05-26     3.0          4      1\n",
      "2              3      2011-06-16     3.0          3      1\n",
      "3              4      2012-08-26     1.0          2      3\n",
      "4              5      2013-06-06     2.0          4      1\n",
      "5              6      2013-12-23     2.0          5      6\n",
      "6              7      2013-12-30     3.0          4      1\n",
      "7              8      2014-04-24     NaN          2      3\n",
      "8              9      2015-04-24     7.0          4      3\n",
      "9             10      2016-05-08     3.0          4      4\n"
     ]
    }
   ],
   "source": [
    "#7.Change the name of column “ Quantity” to “Quant”\n",
    "data = df.rename(columns={'Quantity':\"Quant\"})\n",
    "print(data)\n"
   ]
  },
  {
   "cell_type": "code",
   "execution_count": 129,
   "id": "6d699fd4-ba9c-4fc0-bf4c-51e0729f248f",
   "metadata": {},
   "outputs": [
    {
     "name": "stdout",
     "output_type": "stream",
     "text": [
      "   TransactionID TransactionDate  UID  PID  Quantity\n",
      "0              1      2010-08-21  7.0    2         1\n",
      "1              2      2011-05-26  3.0    4         1\n",
      "2              3      2011-06-16  3.0    3         1\n",
      "3              4      2012-08-26  1.0    2         3\n",
      "4              5      2013-06-06  2.0    4         1\n",
      "5              6      2013-12-23  2.0    5         6\n",
      "6              7      2013-12-30  3.0    4         1\n",
      "7              8      2014-04-24  NaN    2         3\n",
      "8              9      2015-04-24  7.0    4         3\n",
      "9             10      2016-05-08  3.0    4         4\n"
     ]
    }
   ],
   "source": [
    "#8.Change the name of columns ProductID and UserID to PID and UID respectively\n",
    "df.rename(columns = {'ProductID': 'PID','UserID':'UID'},inplace = True)\n",
    "print(df)"
   ]
  },
  {
   "cell_type": "code",
   "execution_count": 133,
   "id": "e207dd8f-0dda-4b02-a2a4-6e709dcc9f1e",
   "metadata": {},
   "outputs": [
    {
     "name": "stdout",
     "output_type": "stream",
     "text": [
      "   TransactionID TransactionDate  UID  PID  Quantity\n",
      "9             10      2016-05-08  3.0    4         4\n",
      "8              9      2015-04-24  7.0    4         3\n",
      "7              8      2014-04-24  NaN    2         3\n",
      "6              7      2013-12-30  3.0    4         1\n",
      "5              6      2013-12-23  2.0    5         6\n",
      "4              5      2013-06-06  2.0    4         1\n",
      "3              4      2012-08-26  1.0    2         3\n",
      "2              3      2011-06-16  3.0    3         1\n",
      "1              2      2011-05-26  3.0    4         1\n",
      "0              1      2010-08-21  7.0    2         1\n"
     ]
    }
   ],
   "source": [
    "#9. Order the rows of transactions by TransactionId descending, if ascending then ascending=True\n",
    "df.sort_values(by = [\"TransactionID\"],ascending = [False],inplace = True)\n",
    "print(df)"
   ]
  },
  {
   "cell_type": "code",
   "execution_count": 134,
   "id": "cb1e5d84-dbbf-413a-9d28-ecc0e3c9acf8",
   "metadata": {},
   "outputs": [
    {
     "data": {
      "text/html": [
       "<div>\n",
       "<style scoped>\n",
       "    .dataframe tbody tr th:only-of-type {\n",
       "        vertical-align: middle;\n",
       "    }\n",
       "\n",
       "    .dataframe tbody tr th {\n",
       "        vertical-align: top;\n",
       "    }\n",
       "\n",
       "    .dataframe thead th {\n",
       "        text-align: right;\n",
       "    }\n",
       "</style>\n",
       "<table border=\"1\" class=\"dataframe\">\n",
       "  <thead>\n",
       "    <tr style=\"text-align: right;\">\n",
       "      <th></th>\n",
       "      <th>TransactionID</th>\n",
       "      <th>TransactionDate</th>\n",
       "      <th>UID</th>\n",
       "      <th>PID</th>\n",
       "      <th>Quantity</th>\n",
       "    </tr>\n",
       "  </thead>\n",
       "  <tbody>\n",
       "    <tr>\n",
       "      <th>6</th>\n",
       "      <td>7</td>\n",
       "      <td>2013-12-30</td>\n",
       "      <td>3.0</td>\n",
       "      <td>4</td>\n",
       "      <td>1</td>\n",
       "    </tr>\n",
       "    <tr>\n",
       "      <th>4</th>\n",
       "      <td>5</td>\n",
       "      <td>2013-06-06</td>\n",
       "      <td>2.0</td>\n",
       "      <td>4</td>\n",
       "      <td>1</td>\n",
       "    </tr>\n",
       "    <tr>\n",
       "      <th>2</th>\n",
       "      <td>3</td>\n",
       "      <td>2011-06-16</td>\n",
       "      <td>3.0</td>\n",
       "      <td>3</td>\n",
       "      <td>1</td>\n",
       "    </tr>\n",
       "    <tr>\n",
       "      <th>1</th>\n",
       "      <td>2</td>\n",
       "      <td>2011-05-26</td>\n",
       "      <td>3.0</td>\n",
       "      <td>4</td>\n",
       "      <td>1</td>\n",
       "    </tr>\n",
       "    <tr>\n",
       "      <th>0</th>\n",
       "      <td>1</td>\n",
       "      <td>2010-08-21</td>\n",
       "      <td>7.0</td>\n",
       "      <td>2</td>\n",
       "      <td>1</td>\n",
       "    </tr>\n",
       "    <tr>\n",
       "      <th>7</th>\n",
       "      <td>8</td>\n",
       "      <td>2014-04-24</td>\n",
       "      <td>NaN</td>\n",
       "      <td>2</td>\n",
       "      <td>3</td>\n",
       "    </tr>\n",
       "    <tr>\n",
       "      <th>3</th>\n",
       "      <td>4</td>\n",
       "      <td>2012-08-26</td>\n",
       "      <td>1.0</td>\n",
       "      <td>2</td>\n",
       "      <td>3</td>\n",
       "    </tr>\n",
       "    <tr>\n",
       "      <th>8</th>\n",
       "      <td>9</td>\n",
       "      <td>2015-04-24</td>\n",
       "      <td>7.0</td>\n",
       "      <td>4</td>\n",
       "      <td>3</td>\n",
       "    </tr>\n",
       "    <tr>\n",
       "      <th>9</th>\n",
       "      <td>10</td>\n",
       "      <td>2016-05-08</td>\n",
       "      <td>3.0</td>\n",
       "      <td>4</td>\n",
       "      <td>4</td>\n",
       "    </tr>\n",
       "    <tr>\n",
       "      <th>5</th>\n",
       "      <td>6</td>\n",
       "      <td>2013-12-23</td>\n",
       "      <td>2.0</td>\n",
       "      <td>5</td>\n",
       "      <td>6</td>\n",
       "    </tr>\n",
       "  </tbody>\n",
       "</table>\n",
       "</div>"
      ],
      "text/plain": [
       "   TransactionID TransactionDate  UID  PID  Quantity\n",
       "6              7      2013-12-30  3.0    4         1\n",
       "4              5      2013-06-06  2.0    4         1\n",
       "2              3      2011-06-16  3.0    3         1\n",
       "1              2      2011-05-26  3.0    4         1\n",
       "0              1      2010-08-21  7.0    2         1\n",
       "7              8      2014-04-24  NaN    2         3\n",
       "3              4      2012-08-26  1.0    2         3\n",
       "8              9      2015-04-24  7.0    4         3\n",
       "9             10      2016-05-08  3.0    4         4\n",
       "5              6      2013-12-23  2.0    5         6"
      ]
     },
     "execution_count": 134,
     "metadata": {},
     "output_type": "execute_result"
    }
   ],
   "source": [
    "#10. Order the rows of transactions by Quantity\n",
    "df.sort_values(by=['Quantity'])"
   ]
  },
  {
   "cell_type": "code",
   "execution_count": 29,
   "id": "8729040a-36e5-4fa2-8638-28c1f6596615",
   "metadata": {},
   "outputs": [
    {
     "data": {
      "text/html": [
       "<div>\n",
       "<style scoped>\n",
       "    .dataframe tbody tr th:only-of-type {\n",
       "        vertical-align: middle;\n",
       "    }\n",
       "\n",
       "    .dataframe tbody tr th {\n",
       "        vertical-align: top;\n",
       "    }\n",
       "\n",
       "    .dataframe thead th {\n",
       "        text-align: right;\n",
       "    }\n",
       "</style>\n",
       "<table border=\"1\" class=\"dataframe\">\n",
       "  <thead>\n",
       "    <tr style=\"text-align: right;\">\n",
       "      <th></th>\n",
       "      <th>TransactionID</th>\n",
       "      <th>TransactionDate</th>\n",
       "      <th>UserID</th>\n",
       "      <th>ProductID</th>\n",
       "      <th>Quantity</th>\n",
       "    </tr>\n",
       "  </thead>\n",
       "  <tbody>\n",
       "    <tr>\n",
       "      <th>0</th>\n",
       "      <td>1</td>\n",
       "      <td>2010-08-21</td>\n",
       "      <td>7.0</td>\n",
       "      <td>2</td>\n",
       "      <td>1</td>\n",
       "    </tr>\n",
       "    <tr>\n",
       "      <th>3</th>\n",
       "      <td>4</td>\n",
       "      <td>2012-08-26</td>\n",
       "      <td>1.0</td>\n",
       "      <td>2</td>\n",
       "      <td>3</td>\n",
       "    </tr>\n",
       "    <tr>\n",
       "      <th>7</th>\n",
       "      <td>8</td>\n",
       "      <td>2014-04-24</td>\n",
       "      <td>NaN</td>\n",
       "      <td>2</td>\n",
       "      <td>3</td>\n",
       "    </tr>\n",
       "    <tr>\n",
       "      <th>2</th>\n",
       "      <td>3</td>\n",
       "      <td>2011-06-16</td>\n",
       "      <td>3.0</td>\n",
       "      <td>3</td>\n",
       "      <td>1</td>\n",
       "    </tr>\n",
       "    <tr>\n",
       "      <th>1</th>\n",
       "      <td>2</td>\n",
       "      <td>2011-05-26</td>\n",
       "      <td>3.0</td>\n",
       "      <td>4</td>\n",
       "      <td>1</td>\n",
       "    </tr>\n",
       "    <tr>\n",
       "      <th>4</th>\n",
       "      <td>5</td>\n",
       "      <td>2013-06-06</td>\n",
       "      <td>2.0</td>\n",
       "      <td>4</td>\n",
       "      <td>1</td>\n",
       "    </tr>\n",
       "    <tr>\n",
       "      <th>6</th>\n",
       "      <td>7</td>\n",
       "      <td>2013-12-30</td>\n",
       "      <td>3.0</td>\n",
       "      <td>4</td>\n",
       "      <td>1</td>\n",
       "    </tr>\n",
       "    <tr>\n",
       "      <th>8</th>\n",
       "      <td>9</td>\n",
       "      <td>2015-04-24</td>\n",
       "      <td>7.0</td>\n",
       "      <td>4</td>\n",
       "      <td>3</td>\n",
       "    </tr>\n",
       "    <tr>\n",
       "      <th>9</th>\n",
       "      <td>10</td>\n",
       "      <td>2016-05-08</td>\n",
       "      <td>3.0</td>\n",
       "      <td>4</td>\n",
       "      <td>4</td>\n",
       "    </tr>\n",
       "    <tr>\n",
       "      <th>5</th>\n",
       "      <td>6</td>\n",
       "      <td>2013-12-23</td>\n",
       "      <td>2.0</td>\n",
       "      <td>5</td>\n",
       "      <td>6</td>\n",
       "    </tr>\n",
       "  </tbody>\n",
       "</table>\n",
       "</div>"
      ],
      "text/plain": [
       "   TransactionID TransactionDate  UserID  ProductID  Quantity\n",
       "0              1      2010-08-21     7.0          2         1\n",
       "3              4      2012-08-26     1.0          2         3\n",
       "7              8      2014-04-24     NaN          2         3\n",
       "2              3      2011-06-16     3.0          3         1\n",
       "1              2      2011-05-26     3.0          4         1\n",
       "4              5      2013-06-06     2.0          4         1\n",
       "6              7      2013-12-30     3.0          4         1\n",
       "8              9      2015-04-24     7.0          4         3\n",
       "9             10      2016-05-08     3.0          4         4\n",
       "5              6      2013-12-23     2.0          5         6"
      ]
     },
     "execution_count": 29,
     "metadata": {},
     "output_type": "execute_result"
    }
   ],
   "source": [
    "#11. Set the column order of Transactions as ProductID,\n",
    "df.sort_values(by=['ProductID'])"
   ]
  },
  {
   "cell_type": "code",
   "execution_count": null,
   "id": "245605da-6d52-4387-bf99-c2e82c9f3c4e",
   "metadata": {},
   "outputs": [],
   "source": [
    "#12. Make UserID the first column of transactions\n"
   ]
  },
  {
   "cell_type": "code",
   "execution_count": 30,
   "id": "5ad049e6-ea8b-4ae9-aa40-41203be34822",
   "metadata": {},
   "outputs": [
    {
     "name": "stdout",
     "output_type": "stream",
     "text": [
      "0   2010-08-21\n",
      "1   2011-05-26\n",
      "2   2011-06-16\n",
      "3   2012-08-26\n",
      "4   2013-06-06\n",
      "5   2013-12-23\n",
      "6   2013-12-30\n",
      "7   2014-04-24\n",
      "8   2015-04-24\n",
      "9   2016-05-08\n",
      "Name: TransactionDate, dtype: datetime64[ns]\n"
     ]
    }
   ],
   "source": [
    "#13. Extracting arrays from a Data Frame. Get the 2nd\n",
    "print(df['TransactionDate'])"
   ]
  },
  {
   "cell_type": "code",
   "execution_count": 7,
   "id": "a3a8e3d2-af60-42d7-8fd0-52edd43e6650",
   "metadata": {},
   "outputs": [
    {
     "name": "stdout",
     "output_type": "stream",
     "text": [
      "0    2\n",
      "1    4\n",
      "2    3\n",
      "3    2\n",
      "4    4\n",
      "5    5\n",
      "6    4\n",
      "7    2\n",
      "8    4\n",
      "9    4\n",
      "Name: ProductID, dtype: int64\n"
     ]
    }
   ],
   "source": [
    "#14. Get the ProductID Array\n",
    "import pandas as pd\n",
    "array = (df['ProductID'])\n",
    "arr = pd.Series(array)\n",
    "print(arr)"
   ]
  },
  {
   "cell_type": "code",
   "execution_count": 26,
   "id": "530d3a85-6594-448e-8265-af4c1e1ffe2d",
   "metadata": {},
   "outputs": [
    {
     "name": "stdout",
     "output_type": "stream",
     "text": [
      "0    2\n",
      "1    4\n",
      "2    3\n",
      "3    2\n",
      "4    4\n",
      "5    5\n",
      "6    4\n",
      "7    2\n",
      "8    4\n",
      "9    4\n",
      "Name: ProductID, dtype: int64\n"
     ]
    }
   ],
   "source": [
    "#15.Get the ProductId array using the following variable Data Mining Manual AY:19-20 Page 5\n",
    "print(df['ProductID'])"
   ]
  },
  {
   "cell_type": "code",
   "execution_count": 27,
   "id": "5dc4061b-42e4-4ab3-bb25-83bd4066bd88",
   "metadata": {},
   "outputs": [
    {
     "name": "stdout",
     "output_type": "stream",
     "text": [
      "   TransactionID TransactionDate  UserID  ProductID  Quantity\n",
      "1              2      2011-05-26     3.0          4         1\n",
      "3              4      2012-08-26     1.0          2         3\n",
      "6              7      2013-12-30     3.0          4         1\n"
     ]
    }
   ],
   "source": [
    "#16.Row subsetting, subset rows 1,3 and 6\n",
    "print(df.iloc[[1,3,6]])"
   ]
  },
  {
   "cell_type": "code",
   "execution_count": 42,
   "id": "dac1e2ff-0d5c-496a-b50c-f005198e4cf7",
   "metadata": {},
   "outputs": [
    {
     "name": "stdout",
     "output_type": "stream",
     "text": [
      "[True, False, True, False, True, True, False, True, True, True]\n",
      "   TransactionID TransactionDate  UserID  ProductID  Quantity\n",
      "0              1      2010-08-21     7.0          2         1\n",
      "2              3      2011-06-16     3.0          3         1\n",
      "4              5      2013-06-06     2.0          4         1\n",
      "5              6      2013-12-23     2.0          5         6\n",
      "7              8      2014-04-24     NaN          2         3\n",
      "8              9      2015-04-24     7.0          4         3\n",
      "9             10      2016-05-08     3.0          4         4\n"
     ]
    }
   ],
   "source": [
    "#17. subset rows excluding 1,3 and 6\n",
    "print([True,False,True,False,True,True,False,True,True,True])\n",
    "print(subset)"
   ]
  },
  {
   "cell_type": "code",
   "execution_count": 45,
   "id": "3a093c09-857f-4d31-a327-564b3fa11c06",
   "metadata": {},
   "outputs": [
    {
     "name": "stdout",
     "output_type": "stream",
     "text": [
      "   TransactionID TransactionDate  UserID  ProductID  Quantity\n",
      "0              1      2010-08-21     7.0          2         1\n",
      "1              2      2011-05-26     3.0          4         1\n",
      "2              3      2011-06-16     3.0          3         1\n"
     ]
    }
   ],
   "source": [
    "#18. Subset the first three rows\n",
    "print(df.iloc[[0,1,2]])"
   ]
  },
  {
   "cell_type": "code",
   "execution_count": 47,
   "id": "0a761a15-64da-4436-b82f-39fc4986a816",
   "metadata": {},
   "outputs": [
    {
     "name": "stdout",
     "output_type": "stream",
     "text": [
      "   TransactionID TransactionDate  UserID  ProductID  Quantity\n",
      "7              8      2014-04-24     NaN          2         3\n",
      "8              9      2015-04-24     7.0          4         3\n"
     ]
    }
   ],
   "source": [
    "#. Subset the last 2 rows\n",
    "print(df.iloc[[7,8]])"
   ]
  },
  {
   "cell_type": "code",
   "execution_count": 54,
   "id": "2d4e19c0-7225-4ff3-83ec-b4c9758edce1",
   "metadata": {},
   "outputs": [
    {
     "name": "stdout",
     "output_type": "stream",
     "text": [
      "   TransactionID TransactionDate  UserID  ProductID  Quantity\n",
      "0              1      2010-08-21     7.0          2         1\n",
      "1              2      2011-05-26     3.0          4         1\n",
      "2              3      2011-06-16     3.0          3         1\n",
      "3              4      2012-08-26     1.0          2         3\n",
      "4              5      2013-06-06     2.0          4         1\n",
      "5              6      2013-12-23     2.0          5         6\n",
      "6              7      2013-12-30     3.0          4         1\n",
      "7              8      2014-04-24     NaN          2         3\n"
     ]
    }
   ],
   "source": [
    "#20. Subset rows excluding the last 2 rows\n",
    "foo=([True,True,True,True,True,True,True,True,False,False])\n",
    "sub = df[foo]\n",
    "print(sub)"
   ]
  },
  {
   "cell_type": "code",
   "execution_count": 55,
   "id": "ed24bd9f-3a3e-44a9-b03f-340a57181ce5",
   "metadata": {},
   "outputs": [
    {
     "name": "stdout",
     "output_type": "stream",
     "text": [
      "   TransactionID TransactionDate  UserID  ProductID  Quantity\n",
      "0              1      2010-08-21     7.0          2         1\n",
      "1              2      2011-05-26     3.0          4         1\n",
      "2              3      2011-06-16     3.0          3         1\n",
      "3              4      2012-08-26     1.0          2         3\n",
      "4              5      2013-06-06     2.0          4         1\n",
      "5              6      2013-12-23     2.0          5         6\n",
      "6              7      2013-12-30     3.0          4         1\n"
     ]
    }
   ],
   "source": [
    "#21. Subset rows excluding the first 3 rows\n",
    "foo=([True,True,True,True,True,True,True,False,False,False])\n",
    "sub = df[foo]\n",
    "print(sub)"
   ]
  },
  {
   "cell_type": "code",
   "execution_count": 18,
   "id": "519202cd-bc2f-41c1-982e-5a39448fa144",
   "metadata": {},
   "outputs": [
    {
     "name": "stdout",
     "output_type": "stream",
     "text": [
      "   TransactionID TransactionDate  UserID  ProductID  Quantity\n",
      "3              4      2012-08-26     1.0          2         3\n",
      "5              6      2013-12-23     2.0          5         6\n",
      "7              8      2014-04-24     NaN          2         3\n",
      "8              9      2015-04-24     7.0          4         3\n",
      "9             10      2016-05-08     3.0          4         4\n"
     ]
    }
   ],
   "source": [
    "#22. Subset rows where Quantity>1\n",
    "s = df[df['Quantity']>1]\n",
    "print(s)\n"
   ]
  },
  {
   "cell_type": "code",
   "execution_count": null,
   "id": "6ee56123-b5f0-4fa1-8e78-7b5ea56f0645",
   "metadata": {},
   "outputs": [],
   "source": []
  }
 ],
 "metadata": {
  "kernelspec": {
   "display_name": "Python 3 (ipykernel)",
   "language": "python",
   "name": "python3"
  },
  "language_info": {
   "codemirror_mode": {
    "name": "ipython",
    "version": 3
   },
   "file_extension": ".py",
   "mimetype": "text/x-python",
   "name": "python",
   "nbconvert_exporter": "python",
   "pygments_lexer": "ipython3",
   "version": "3.11.7"
  }
 },
 "nbformat": 4,
 "nbformat_minor": 5
}
